{
 "cells": [
  {
   "cell_type": "code",
   "execution_count": null,
   "id": "ae03be9e-af52-4d39-bac9-91f85e95c60f",
   "metadata": {},
   "outputs": [],
   "source": [
    "!pip uninstall keras"
   ]
  },
  {
   "cell_type": "code",
   "execution_count": 12,
   "id": "168eb8a5-8f2a-4b8a-9572-90069f6bb46d",
   "metadata": {},
   "outputs": [
    {
     "data": {
      "application/vnd.jupyter.widget-view+json": {
       "model_id": "da7a1365dbf74d859275abe34995b813",
       "version_major": 2,
       "version_minor": 0
      },
      "text/plain": [
       "config.json:   0%|          | 0.00/768 [00:00<?, ?B/s]"
      ]
     },
     "metadata": {},
     "output_type": "display_data"
    },
    {
     "name": "stderr",
     "output_type": "stream",
     "text": [
      "C:\\Users\\Abiram\\AppData\\Local\\Programs\\Python\\Python311\\Lib\\site-packages\\huggingface_hub\\file_download.py:147: UserWarning: `huggingface_hub` cache-system uses symlinks by default to efficiently store duplicated files but your machine does not support them in C:\\Users\\Abiram\\.cache\\huggingface\\hub\\models--bhadresh-savani--distilbert-base-uncased-emotion. Caching files will still work but in a degraded version that might require more space on your disk. This warning can be disabled by setting the `HF_HUB_DISABLE_SYMLINKS_WARNING` environment variable. For more details, see https://huggingface.co/docs/huggingface_hub/how-to-cache#limitations.\n",
      "To support symlinks on Windows, you either need to activate Developer Mode or to run Python as an administrator. In order to activate developer mode, see this article: https://docs.microsoft.com/en-us/windows/apps/get-started/enable-your-device-for-development\n",
      "  warnings.warn(message)\n"
     ]
    },
    {
     "ename": "RuntimeError",
     "evalue": "Failed to import transformers.models.distilbert.modeling_tf_distilbert because of the following error (look up to see its traceback):\nYour currently installed version of Keras is Keras 3, but this is not yet supported in Transformers. Please install the backwards-compatible tf-keras package with `pip install tf-keras`.",
     "output_type": "error",
     "traceback": [
      "\u001b[1;31m---------------------------------------------------------------------------\u001b[0m",
      "\u001b[1;31mModuleNotFoundError\u001b[0m                       Traceback (most recent call last)",
      "File \u001b[1;32m~\\AppData\\Local\\Programs\\Python\\Python311\\Lib\\site-packages\\transformers\\activations_tf.py:22\u001b[0m\n\u001b[0;32m     21\u001b[0m \u001b[38;5;28;01mtry\u001b[39;00m:\n\u001b[1;32m---> 22\u001b[0m     \u001b[38;5;28;01mimport\u001b[39;00m \u001b[38;5;21;01mtf_keras\u001b[39;00m \u001b[38;5;28;01mas\u001b[39;00m \u001b[38;5;21;01mkeras\u001b[39;00m\n\u001b[0;32m     23\u001b[0m \u001b[38;5;28;01mexcept\u001b[39;00m (\u001b[38;5;167;01mModuleNotFoundError\u001b[39;00m, \u001b[38;5;167;01mImportError\u001b[39;00m):\n",
      "\u001b[1;31mModuleNotFoundError\u001b[0m: No module named 'tf_keras'",
      "\nDuring handling of the above exception, another exception occurred:\n",
      "\u001b[1;31mValueError\u001b[0m                                Traceback (most recent call last)",
      "File \u001b[1;32m~\\AppData\\Local\\Programs\\Python\\Python311\\Lib\\site-packages\\transformers\\utils\\import_utils.py:1603\u001b[0m, in \u001b[0;36m_LazyModule._get_module\u001b[1;34m(self, module_name)\u001b[0m\n\u001b[0;32m   1602\u001b[0m \u001b[38;5;28;01mtry\u001b[39;00m:\n\u001b[1;32m-> 1603\u001b[0m     \u001b[38;5;28;01mreturn\u001b[39;00m \u001b[43mimportlib\u001b[49m\u001b[38;5;241;43m.\u001b[39;49m\u001b[43mimport_module\u001b[49m\u001b[43m(\u001b[49m\u001b[38;5;124;43m\"\u001b[39;49m\u001b[38;5;124;43m.\u001b[39;49m\u001b[38;5;124;43m\"\u001b[39;49m\u001b[43m \u001b[49m\u001b[38;5;241;43m+\u001b[39;49m\u001b[43m \u001b[49m\u001b[43mmodule_name\u001b[49m\u001b[43m,\u001b[49m\u001b[43m \u001b[49m\u001b[38;5;28;43mself\u001b[39;49m\u001b[38;5;241;43m.\u001b[39;49m\u001b[38;5;18;43m__name__\u001b[39;49m\u001b[43m)\u001b[49m\n\u001b[0;32m   1604\u001b[0m \u001b[38;5;28;01mexcept\u001b[39;00m \u001b[38;5;167;01mException\u001b[39;00m \u001b[38;5;28;01mas\u001b[39;00m e:\n",
      "File \u001b[1;32m~\\AppData\\Local\\Programs\\Python\\Python311\\Lib\\importlib\\__init__.py:126\u001b[0m, in \u001b[0;36mimport_module\u001b[1;34m(name, package)\u001b[0m\n\u001b[0;32m    125\u001b[0m         level \u001b[38;5;241m+\u001b[39m\u001b[38;5;241m=\u001b[39m \u001b[38;5;241m1\u001b[39m\n\u001b[1;32m--> 126\u001b[0m \u001b[38;5;28;01mreturn\u001b[39;00m \u001b[43m_bootstrap\u001b[49m\u001b[38;5;241;43m.\u001b[39;49m\u001b[43m_gcd_import\u001b[49m\u001b[43m(\u001b[49m\u001b[43mname\u001b[49m\u001b[43m[\u001b[49m\u001b[43mlevel\u001b[49m\u001b[43m:\u001b[49m\u001b[43m]\u001b[49m\u001b[43m,\u001b[49m\u001b[43m \u001b[49m\u001b[43mpackage\u001b[49m\u001b[43m,\u001b[49m\u001b[43m \u001b[49m\u001b[43mlevel\u001b[49m\u001b[43m)\u001b[49m\n",
      "File \u001b[1;32m<frozen importlib._bootstrap>:1204\u001b[0m, in \u001b[0;36m_gcd_import\u001b[1;34m(name, package, level)\u001b[0m\n",
      "File \u001b[1;32m<frozen importlib._bootstrap>:1176\u001b[0m, in \u001b[0;36m_find_and_load\u001b[1;34m(name, import_)\u001b[0m\n",
      "File \u001b[1;32m<frozen importlib._bootstrap>:1147\u001b[0m, in \u001b[0;36m_find_and_load_unlocked\u001b[1;34m(name, import_)\u001b[0m\n",
      "File \u001b[1;32m<frozen importlib._bootstrap>:690\u001b[0m, in \u001b[0;36m_load_unlocked\u001b[1;34m(spec)\u001b[0m\n",
      "File \u001b[1;32m<frozen importlib._bootstrap_external>:940\u001b[0m, in \u001b[0;36mexec_module\u001b[1;34m(self, module)\u001b[0m\n",
      "File \u001b[1;32m<frozen importlib._bootstrap>:241\u001b[0m, in \u001b[0;36m_call_with_frames_removed\u001b[1;34m(f, *args, **kwds)\u001b[0m\n",
      "File \u001b[1;32m~\\AppData\\Local\\Programs\\Python\\Python311\\Lib\\site-packages\\transformers\\models\\distilbert\\modeling_tf_distilbert.py:27\u001b[0m\n\u001b[0;32m     25\u001b[0m \u001b[38;5;28;01mimport\u001b[39;00m \u001b[38;5;21;01mtensorflow\u001b[39;00m \u001b[38;5;28;01mas\u001b[39;00m \u001b[38;5;21;01mtf\u001b[39;00m\n\u001b[1;32m---> 27\u001b[0m \u001b[38;5;28;01mfrom\u001b[39;00m \u001b[38;5;21;01m.\u001b[39;00m\u001b[38;5;21;01m.\u001b[39;00m\u001b[38;5;21;01m.\u001b[39;00m\u001b[38;5;21;01mactivations_tf\u001b[39;00m \u001b[38;5;28;01mimport\u001b[39;00m get_tf_activation\n\u001b[0;32m     28\u001b[0m \u001b[38;5;28;01mfrom\u001b[39;00m \u001b[38;5;21;01m.\u001b[39;00m\u001b[38;5;21;01m.\u001b[39;00m\u001b[38;5;21;01m.\u001b[39;00m\u001b[38;5;21;01mmodeling_tf_outputs\u001b[39;00m \u001b[38;5;28;01mimport\u001b[39;00m (\n\u001b[0;32m     29\u001b[0m     TFBaseModelOutput,\n\u001b[0;32m     30\u001b[0m     TFMaskedLMOutput,\n\u001b[1;32m   (...)\u001b[0m\n\u001b[0;32m     34\u001b[0m     TFTokenClassifierOutput,\n\u001b[0;32m     35\u001b[0m )\n",
      "File \u001b[1;32m~\\AppData\\Local\\Programs\\Python\\Python311\\Lib\\site-packages\\transformers\\activations_tf.py:27\u001b[0m\n\u001b[0;32m     26\u001b[0m     \u001b[38;5;28;01mif\u001b[39;00m parse(keras\u001b[38;5;241m.\u001b[39m__version__)\u001b[38;5;241m.\u001b[39mmajor \u001b[38;5;241m>\u001b[39m \u001b[38;5;241m2\u001b[39m:\n\u001b[1;32m---> 27\u001b[0m         \u001b[38;5;28;01mraise\u001b[39;00m \u001b[38;5;167;01mValueError\u001b[39;00m(\n\u001b[0;32m     28\u001b[0m             \u001b[38;5;124m\"\u001b[39m\u001b[38;5;124mYour currently installed version of Keras is Keras 3, but this is not yet supported in \u001b[39m\u001b[38;5;124m\"\u001b[39m\n\u001b[0;32m     29\u001b[0m             \u001b[38;5;124m\"\u001b[39m\u001b[38;5;124mTransformers. Please install the backwards-compatible tf-keras package with \u001b[39m\u001b[38;5;124m\"\u001b[39m\n\u001b[0;32m     30\u001b[0m             \u001b[38;5;124m\"\u001b[39m\u001b[38;5;124m`pip install tf-keras`.\u001b[39m\u001b[38;5;124m\"\u001b[39m\n\u001b[0;32m     31\u001b[0m         )\n\u001b[0;32m     34\u001b[0m \u001b[38;5;28;01mdef\u001b[39;00m \u001b[38;5;21m_gelu\u001b[39m(x):\n",
      "\u001b[1;31mValueError\u001b[0m: Your currently installed version of Keras is Keras 3, but this is not yet supported in Transformers. Please install the backwards-compatible tf-keras package with `pip install tf-keras`.",
      "\nThe above exception was the direct cause of the following exception:\n",
      "\u001b[1;31mRuntimeError\u001b[0m                              Traceback (most recent call last)",
      "Cell \u001b[1;32mIn[12], line 5\u001b[0m\n\u001b[0;32m      2\u001b[0m \u001b[38;5;28;01mfrom\u001b[39;00m \u001b[38;5;21;01mtransformers\u001b[39;00m \u001b[38;5;28;01mimport\u001b[39;00m pipeline\n\u001b[0;32m      4\u001b[0m \u001b[38;5;66;03m# Load pre-trained emotion classifier\u001b[39;00m\n\u001b[1;32m----> 5\u001b[0m emotion_classifier \u001b[38;5;241m=\u001b[39m \u001b[43mpipeline\u001b[49m\u001b[43m(\u001b[49m\u001b[38;5;124;43m'\u001b[39;49m\u001b[38;5;124;43mtext-classification\u001b[39;49m\u001b[38;5;124;43m'\u001b[39;49m\u001b[43m,\u001b[49m\u001b[43m \u001b[49m\u001b[43mmodel\u001b[49m\u001b[38;5;241;43m=\u001b[39;49m\u001b[38;5;124;43m'\u001b[39;49m\u001b[38;5;124;43mbhadresh-savani/distilbert-base-uncased-emotion\u001b[39;49m\u001b[38;5;124;43m'\u001b[39;49m\u001b[43m)\u001b[49m\n\u001b[0;32m      7\u001b[0m \u001b[38;5;28;01mdef\u001b[39;00m \u001b[38;5;21manalyze_emotion\u001b[39m(review_text):\n\u001b[0;32m      8\u001b[0m     emotions \u001b[38;5;241m=\u001b[39m emotion_classifier(review_text)\n",
      "File \u001b[1;32m~\\AppData\\Local\\Programs\\Python\\Python311\\Lib\\site-packages\\transformers\\pipelines\\__init__.py:895\u001b[0m, in \u001b[0;36mpipeline\u001b[1;34m(task, model, config, tokenizer, feature_extractor, image_processor, framework, revision, use_fast, token, device, device_map, torch_dtype, trust_remote_code, model_kwargs, pipeline_class, **kwargs)\u001b[0m\n\u001b[0;32m    893\u001b[0m \u001b[38;5;28;01mif\u001b[39;00m \u001b[38;5;28misinstance\u001b[39m(model, \u001b[38;5;28mstr\u001b[39m) \u001b[38;5;129;01mor\u001b[39;00m framework \u001b[38;5;129;01mis\u001b[39;00m \u001b[38;5;28;01mNone\u001b[39;00m:\n\u001b[0;32m    894\u001b[0m     model_classes \u001b[38;5;241m=\u001b[39m {\u001b[38;5;124m\"\u001b[39m\u001b[38;5;124mtf\u001b[39m\u001b[38;5;124m\"\u001b[39m: targeted_task[\u001b[38;5;124m\"\u001b[39m\u001b[38;5;124mtf\u001b[39m\u001b[38;5;124m\"\u001b[39m], \u001b[38;5;124m\"\u001b[39m\u001b[38;5;124mpt\u001b[39m\u001b[38;5;124m\"\u001b[39m: targeted_task[\u001b[38;5;124m\"\u001b[39m\u001b[38;5;124mpt\u001b[39m\u001b[38;5;124m\"\u001b[39m]}\n\u001b[1;32m--> 895\u001b[0m     framework, model \u001b[38;5;241m=\u001b[39m \u001b[43minfer_framework_load_model\u001b[49m\u001b[43m(\u001b[49m\n\u001b[0;32m    896\u001b[0m \u001b[43m        \u001b[49m\u001b[43mmodel\u001b[49m\u001b[43m,\u001b[49m\n\u001b[0;32m    897\u001b[0m \u001b[43m        \u001b[49m\u001b[43mmodel_classes\u001b[49m\u001b[38;5;241;43m=\u001b[39;49m\u001b[43mmodel_classes\u001b[49m\u001b[43m,\u001b[49m\n\u001b[0;32m    898\u001b[0m \u001b[43m        \u001b[49m\u001b[43mconfig\u001b[49m\u001b[38;5;241;43m=\u001b[39;49m\u001b[43mconfig\u001b[49m\u001b[43m,\u001b[49m\n\u001b[0;32m    899\u001b[0m \u001b[43m        \u001b[49m\u001b[43mframework\u001b[49m\u001b[38;5;241;43m=\u001b[39;49m\u001b[43mframework\u001b[49m\u001b[43m,\u001b[49m\n\u001b[0;32m    900\u001b[0m \u001b[43m        \u001b[49m\u001b[43mtask\u001b[49m\u001b[38;5;241;43m=\u001b[39;49m\u001b[43mtask\u001b[49m\u001b[43m,\u001b[49m\n\u001b[0;32m    901\u001b[0m \u001b[43m        \u001b[49m\u001b[38;5;241;43m*\u001b[39;49m\u001b[38;5;241;43m*\u001b[39;49m\u001b[43mhub_kwargs\u001b[49m\u001b[43m,\u001b[49m\n\u001b[0;32m    902\u001b[0m \u001b[43m        \u001b[49m\u001b[38;5;241;43m*\u001b[39;49m\u001b[38;5;241;43m*\u001b[39;49m\u001b[43mmodel_kwargs\u001b[49m\u001b[43m,\u001b[49m\n\u001b[0;32m    903\u001b[0m \u001b[43m    \u001b[49m\u001b[43m)\u001b[49m\n\u001b[0;32m    905\u001b[0m model_config \u001b[38;5;241m=\u001b[39m model\u001b[38;5;241m.\u001b[39mconfig\n\u001b[0;32m    906\u001b[0m hub_kwargs[\u001b[38;5;124m\"\u001b[39m\u001b[38;5;124m_commit_hash\u001b[39m\u001b[38;5;124m\"\u001b[39m] \u001b[38;5;241m=\u001b[39m model\u001b[38;5;241m.\u001b[39mconfig\u001b[38;5;241m.\u001b[39m_commit_hash\n",
      "File \u001b[1;32m~\\AppData\\Local\\Programs\\Python\\Python311\\Lib\\site-packages\\transformers\\pipelines\\base.py:261\u001b[0m, in \u001b[0;36minfer_framework_load_model\u001b[1;34m(model, config, model_classes, task, framework, **model_kwargs)\u001b[0m\n\u001b[0;32m    259\u001b[0m         classes\u001b[38;5;241m.\u001b[39mappend(_class)\n\u001b[0;32m    260\u001b[0m \u001b[38;5;28;01mif\u001b[39;00m look_tf:\n\u001b[1;32m--> 261\u001b[0m     _class \u001b[38;5;241m=\u001b[39m \u001b[38;5;28;43mgetattr\u001b[39;49m\u001b[43m(\u001b[49m\u001b[43mtransformers_module\u001b[49m\u001b[43m,\u001b[49m\u001b[43m \u001b[49m\u001b[38;5;124;43mf\u001b[39;49m\u001b[38;5;124;43m\"\u001b[39;49m\u001b[38;5;124;43mTF\u001b[39;49m\u001b[38;5;132;43;01m{\u001b[39;49;00m\u001b[43marchitecture\u001b[49m\u001b[38;5;132;43;01m}\u001b[39;49;00m\u001b[38;5;124;43m\"\u001b[39;49m\u001b[43m,\u001b[49m\u001b[43m \u001b[49m\u001b[38;5;28;43;01mNone\u001b[39;49;00m\u001b[43m)\u001b[49m\n\u001b[0;32m    262\u001b[0m     \u001b[38;5;28;01mif\u001b[39;00m _class \u001b[38;5;129;01mis\u001b[39;00m \u001b[38;5;129;01mnot\u001b[39;00m \u001b[38;5;28;01mNone\u001b[39;00m:\n\u001b[0;32m    263\u001b[0m         classes\u001b[38;5;241m.\u001b[39mappend(_class)\n",
      "File \u001b[1;32m~\\AppData\\Local\\Programs\\Python\\Python311\\Lib\\site-packages\\transformers\\utils\\import_utils.py:1594\u001b[0m, in \u001b[0;36m_LazyModule.__getattr__\u001b[1;34m(self, name)\u001b[0m\n\u001b[0;32m   1592\u001b[0m \u001b[38;5;28;01melif\u001b[39;00m name \u001b[38;5;129;01min\u001b[39;00m \u001b[38;5;28mself\u001b[39m\u001b[38;5;241m.\u001b[39m_class_to_module\u001b[38;5;241m.\u001b[39mkeys():\n\u001b[0;32m   1593\u001b[0m     module \u001b[38;5;241m=\u001b[39m \u001b[38;5;28mself\u001b[39m\u001b[38;5;241m.\u001b[39m_get_module(\u001b[38;5;28mself\u001b[39m\u001b[38;5;241m.\u001b[39m_class_to_module[name])\n\u001b[1;32m-> 1594\u001b[0m     value \u001b[38;5;241m=\u001b[39m \u001b[38;5;28mgetattr\u001b[39m(module, name)\n\u001b[0;32m   1595\u001b[0m \u001b[38;5;28;01melse\u001b[39;00m:\n\u001b[0;32m   1596\u001b[0m     \u001b[38;5;28;01mraise\u001b[39;00m \u001b[38;5;167;01mAttributeError\u001b[39;00m(\u001b[38;5;124mf\u001b[39m\u001b[38;5;124m\"\u001b[39m\u001b[38;5;124mmodule \u001b[39m\u001b[38;5;132;01m{\u001b[39;00m\u001b[38;5;28mself\u001b[39m\u001b[38;5;241m.\u001b[39m\u001b[38;5;18m__name__\u001b[39m\u001b[38;5;132;01m}\u001b[39;00m\u001b[38;5;124m has no attribute \u001b[39m\u001b[38;5;132;01m{\u001b[39;00mname\u001b[38;5;132;01m}\u001b[39;00m\u001b[38;5;124m\"\u001b[39m)\n",
      "File \u001b[1;32m~\\AppData\\Local\\Programs\\Python\\Python311\\Lib\\site-packages\\transformers\\utils\\import_utils.py:1593\u001b[0m, in \u001b[0;36m_LazyModule.__getattr__\u001b[1;34m(self, name)\u001b[0m\n\u001b[0;32m   1591\u001b[0m     value \u001b[38;5;241m=\u001b[39m \u001b[38;5;28mself\u001b[39m\u001b[38;5;241m.\u001b[39m_get_module(name)\n\u001b[0;32m   1592\u001b[0m \u001b[38;5;28;01melif\u001b[39;00m name \u001b[38;5;129;01min\u001b[39;00m \u001b[38;5;28mself\u001b[39m\u001b[38;5;241m.\u001b[39m_class_to_module\u001b[38;5;241m.\u001b[39mkeys():\n\u001b[1;32m-> 1593\u001b[0m     module \u001b[38;5;241m=\u001b[39m \u001b[38;5;28;43mself\u001b[39;49m\u001b[38;5;241;43m.\u001b[39;49m\u001b[43m_get_module\u001b[49m\u001b[43m(\u001b[49m\u001b[38;5;28;43mself\u001b[39;49m\u001b[38;5;241;43m.\u001b[39;49m\u001b[43m_class_to_module\u001b[49m\u001b[43m[\u001b[49m\u001b[43mname\u001b[49m\u001b[43m]\u001b[49m\u001b[43m)\u001b[49m\n\u001b[0;32m   1594\u001b[0m     value \u001b[38;5;241m=\u001b[39m \u001b[38;5;28mgetattr\u001b[39m(module, name)\n\u001b[0;32m   1595\u001b[0m \u001b[38;5;28;01melse\u001b[39;00m:\n",
      "File \u001b[1;32m~\\AppData\\Local\\Programs\\Python\\Python311\\Lib\\site-packages\\transformers\\utils\\import_utils.py:1605\u001b[0m, in \u001b[0;36m_LazyModule._get_module\u001b[1;34m(self, module_name)\u001b[0m\n\u001b[0;32m   1603\u001b[0m     \u001b[38;5;28;01mreturn\u001b[39;00m importlib\u001b[38;5;241m.\u001b[39mimport_module(\u001b[38;5;124m\"\u001b[39m\u001b[38;5;124m.\u001b[39m\u001b[38;5;124m\"\u001b[39m \u001b[38;5;241m+\u001b[39m module_name, \u001b[38;5;28mself\u001b[39m\u001b[38;5;241m.\u001b[39m\u001b[38;5;18m__name__\u001b[39m)\n\u001b[0;32m   1604\u001b[0m \u001b[38;5;28;01mexcept\u001b[39;00m \u001b[38;5;167;01mException\u001b[39;00m \u001b[38;5;28;01mas\u001b[39;00m e:\n\u001b[1;32m-> 1605\u001b[0m     \u001b[38;5;28;01mraise\u001b[39;00m \u001b[38;5;167;01mRuntimeError\u001b[39;00m(\n\u001b[0;32m   1606\u001b[0m         \u001b[38;5;124mf\u001b[39m\u001b[38;5;124m\"\u001b[39m\u001b[38;5;124mFailed to import \u001b[39m\u001b[38;5;132;01m{\u001b[39;00m\u001b[38;5;28mself\u001b[39m\u001b[38;5;241m.\u001b[39m\u001b[38;5;18m__name__\u001b[39m\u001b[38;5;132;01m}\u001b[39;00m\u001b[38;5;124m.\u001b[39m\u001b[38;5;132;01m{\u001b[39;00mmodule_name\u001b[38;5;132;01m}\u001b[39;00m\u001b[38;5;124m because of the following error (look up to see its\u001b[39m\u001b[38;5;124m\"\u001b[39m\n\u001b[0;32m   1607\u001b[0m         \u001b[38;5;124mf\u001b[39m\u001b[38;5;124m\"\u001b[39m\u001b[38;5;124m traceback):\u001b[39m\u001b[38;5;130;01m\\n\u001b[39;00m\u001b[38;5;132;01m{\u001b[39;00me\u001b[38;5;132;01m}\u001b[39;00m\u001b[38;5;124m\"\u001b[39m\n\u001b[0;32m   1608\u001b[0m     ) \u001b[38;5;28;01mfrom\u001b[39;00m \u001b[38;5;21;01me\u001b[39;00m\n",
      "\u001b[1;31mRuntimeError\u001b[0m: Failed to import transformers.models.distilbert.modeling_tf_distilbert because of the following error (look up to see its traceback):\nYour currently installed version of Keras is Keras 3, but this is not yet supported in Transformers. Please install the backwards-compatible tf-keras package with `pip install tf-keras`."
     ]
    }
   ],
   "source": [
    "import matplotlib.pyplot as plt\n",
    "from transformers import pipeline\n",
    "\n",
    "# Load pre-trained emotion classifier\n",
    "emotion_classifier = pipeline('text-classification', model='bhadresh-savani/distilbert-base-uncased-emotion')\n",
    "\n",
    "def analyze_emotion(review_text):\n",
    "    emotions = emotion_classifier(review_text)\n",
    "    return emotions\n",
    "\n",
    "def plot_emotions(emotion_results):\n",
    "    labels = [emotion['label'] for emotion in emotion_results]\n",
    "    scores = [emotion['score'] for emotion in emotion_results]\n",
    "    \n",
    "    # Plotting the results\n",
    "    plt.figure(figsize=(8,6))\n",
    "    plt.bar(labels, scores, color=['orange', 'blue', 'yellow', 'green', 'red', 'purple'])\n",
    "    plt.title(\"Emotion Distribution in Customer Review\")\n",
    "    plt.xlabel(\"Emotion\")\n",
    "    plt.ylabel(\"Score\")\n",
    "    plt.show()\n",
    "\n",
    "# Example review\n",
    "review = \"The product quality is amazing and it exceeded my expectations!\"\n",
    "\n",
    "# Analyze the emotion\n",
    "emotion_results = analyze_emotion(review)\n",
    "\n",
    "# Visualize the emotions\n",
    "plot_emotions(emotion_results)\n"
   ]
  },
  {
   "cell_type": "code",
   "execution_count": 6,
   "id": "6ce5354c-5df3-4b85-84ea-34bf346fe7f5",
   "metadata": {},
   "outputs": [
    {
     "name": "stdout",
     "output_type": "stream",
     "text": [
      "Unique Products:\n",
      "        ID                                       Product_name\n",
      "0        0  Lenovo Ideapad Gaming 3 Ryzen 5 Hexa Core 5600...\n",
      "1        1  Lenovo Ideapad Gaming 3 Ryzen 5 Hexa Core 5600...\n",
      "2        2  Lenovo Ideapad Gaming 3 Ryzen 5 Hexa Core 5600...\n",
      "3        3  DELL Inspiron Athlon Dual Core 3050U - (4 GB/2...\n",
      "4        4  DELL Inspiron Athlon Dual Core 3050U - (4 GB/2...\n",
      "...    ...                                                ...\n",
      "2299  2299  MSI 27 inch Full HD IPS Panel Monitor (PRO MP2...\n",
      "2300  2300  MSI 27 inch Full HD IPS Panel Monitor (PRO MP2...\n",
      "2301  2301  MSI 27 inch Full HD IPS Panel Monitor (PRO MP2...\n",
      "2302  2302  MSI 27 inch Full HD IPS Panel Monitor (PRO MP2...\n",
      "2303  2303  MSI 27 inch Full HD IPS Panel Monitor (PRO MP2...\n",
      "\n",
      "[2304 rows x 2 columns]\n"
     ]
    },
    {
     "name": "stdin",
     "output_type": "stream",
     "text": [
      "Enter the Product ID to analyze:  1\n"
     ]
    },
    {
     "data": {
      "image/png": "[encoded data removed]",
      "text/plain": [
       "<Figure size 600x600 with 1 Axes>"
      ]
     },
     "metadata": {},
     "output_type": "display_data"
    },
    {
     "name": "stdout",
     "output_type": "stream",
     "text": [
      "Sentiment Analysis for Product ID: 1\n",
      "{'Positive': 1, 'Neutral': 0, 'Negative': 0}\n"
     ]
    }
   ],
   "source": [
    "import pandas as pd\n",
    "import matplotlib.pyplot as plt\n",
    "from vaderSentiment.vaderSentiment import SentimentIntensityAnalyzer\n",
    "\n",
    "# Load the dataset\n",
    "df = pd.read_csv('flipkart.csv')  # Ensure your dataset is in CSV format\n",
    "\n",
    "# List unique products and their IDs\n",
    "unique_products = df[['ID', 'Product_name']].drop_duplicates()\n",
    "print(\"Unique Products:\")\n",
    "print(unique_products)\n",
    "\n",
    "# Ask user to enter the product ID\n",
    "product_id = input(\"Enter the Product ID to analyze: \")\n",
    "\n",
    "# Filter the reviews for the selected product\n",
    "product_reviews = df[df['ID'] == int(product_id)]['Review'].tolist()\n",
    "\n",
    "# Initialize the VADER sentiment analyzer\n",
    "analyzer = SentimentIntensityAnalyzer()\n",
    "\n",
    "# Sentiment analysis\n",
    "sentiment_scores = {'Positive': 0, 'Neutral': 0, 'Negative': 0}\n",
    "\n",
    "for review in product_reviews:\n",
    "    sentiment = analyzer.polarity_scores(review)\n",
    "    if sentiment['compound'] > 0:\n",
    "        sentiment_scores['Positive'] += 1\n",
    "    elif sentiment['compound'] == 0:\n",
    "        sentiment_scores['Neutral'] += 1\n",
    "    else:\n",
    "        sentiment_scores['Negative'] += 1\n",
    "\n",
    "# Plot sentiment analysis results\n",
    "labels = sentiment_scores.keys()\n",
    "sizes = sentiment_scores.values()\n",
    "\n",
    "plt.figure(figsize=(6, 6))\n",
    "plt.pie(sizes, labels=labels, autopct='%1.1f%%', startangle=90, colors=['green', 'gray', 'red'])\n",
    "plt.title(f\"Sentiment Analysis for Product ID: {product_id}\")\n",
    "plt.show()\n",
    "\n",
    "# Display the sentiment counts\n",
    "print(f\"Sentiment Analysis for Product ID: {product_id}\")\n",
    "print(sentiment_scores)\n"
   ]
  },
  {
   "cell_type": "code",
   "execution_count": 1,
   "id": "a5535929-39df-4ad7-8418-d8221bf06628",
   "metadata": {},
   "outputs": [
    {
     "name": "stdout",
     "output_type": "stream",
     "text": [
      "Collecting selenium\n",
      "  Downloading selenium-4.25.0-py3-none-any.whl.metadata (7.1 kB)\n",
      "Requirement already satisfied: urllib3<3,>=1.26 in c:\\users\\abiram\\appdata\\local\\programs\\python\\python311\\lib\\site-packages (from urllib3[socks]<3,>=1.26->selenium) (2.2.1)\n",
      "Collecting trio~=0.17 (from selenium)\n",
      "  Downloading trio-0.26.2-py3-none-any.whl.metadata (8.6 kB)\n",
      "Collecting trio-websocket~=0.9 (from selenium)\n",
      "  Downloading trio_websocket-0.11.1-py3-none-any.whl.metadata (4.7 kB)\n",
      "Requirement already satisfied: certifi>=2021.10.8 in c:\\users\\abiram\\appdata\\local\\programs\\python\\python311\\lib\\site-packages (from selenium) (2024.2.2)\n",
      "Requirement already satisfied: typing_extensions~=4.9 in c:\\users\\abiram\\appdata\\local\\programs\\python\\python311\\lib\\site-packages (from selenium) (4.11.0)\n",
      "Requirement already satisfied: websocket-client~=1.8 in c:\\users\\abiram\\appdata\\local\\programs\\python\\python311\\lib\\site-packages (from selenium) (1.8.0)\n",
      "Requirement already satisfied: attrs>=23.2.0 in c:\\users\\abiram\\appdata\\local\\programs\\python\\python311\\lib\\site-packages (from trio~=0.17->selenium) (23.2.0)\n",
      "Collecting sortedcontainers (from trio~=0.17->selenium)\n",
      "  Downloading sortedcontainers-2.4.0-py2.py3-none-any.whl.metadata (10 kB)\n",
      "Requirement already satisfied: idna in c:\\users\\abiram\\appdata\\local\\programs\\python\\python311\\lib\\site-packages (from trio~=0.17->selenium) (3.7)\n",
      "Collecting outcome (from trio~=0.17->selenium)\n",
      "  Downloading outcome-1.3.0.post0-py2.py3-none-any.whl.metadata (2.6 kB)\n",
      "Requirement already satisfied: sniffio>=1.3.0 in c:\\users\\abiram\\appdata\\local\\programs\\python\\python311\\lib\\site-packages (from trio~=0.17->selenium) (1.3.1)\n",
      "Requirement already satisfied: cffi>=1.14 in c:\\users\\abiram\\appdata\\local\\programs\\python\\python311\\lib\\site-packages (from trio~=0.17->selenium) (1.16.0)\n",
      "Collecting wsproto>=0.14 (from trio-websocket~=0.9->selenium)\n",
      "  Downloading wsproto-1.2.0-py3-none-any.whl.metadata (5.6 kB)\n",
      "Collecting pysocks!=1.5.7,<2.0,>=1.5.6 (from urllib3[socks]<3,>=1.26->selenium)\n",
      "  Downloading PySocks-1.7.1-py3-none-any.whl.metadata (13 kB)\n",
      "Requirement already satisfied: pycparser in c:\\users\\abiram\\appdata\\local\\programs\\python\\python311\\lib\\site-packages (from cffi>=1.14->trio~=0.17->selenium) (2.22)\n",
      "Requirement already satisfied: h11<1,>=0.9.0 in c:\\users\\abiram\\appdata\\local\\programs\\python\\python311\\lib\\site-packages (from wsproto>=0.14->trio-websocket~=0.9->selenium) (0.14.0)\n",
      "Downloading selenium-4.25.0-py3-none-any.whl (9.7 MB)\n",
      "   ---------------------------------------- 0.0/9.7 MB ? eta -:--:--\n",
      "   ------ --------------------------------- 1.6/9.7 MB 10.5 MB/s eta 0:00:01\n",
      "   ---------------- ----------------------- 3.9/9.7 MB 10.7 MB/s eta 0:00:01\n",
      "   ------------------------- -------------- 6.3/9.7 MB 11.0 MB/s eta 0:00:01\n",
      "   ----------------------------------- ---- 8.7/9.7 MB 11.0 MB/s eta 0:00:01\n",
      "   ---------------------------------------- 9.7/9.7 MB 10.8 MB/s eta 0:00:00\n",
      "Downloading trio-0.26.2-py3-none-any.whl (475 kB)\n",
      "Downloading trio_websocket-0.11.1-py3-none-any.whl (17 kB)\n",
      "Downloading PySocks-1.7.1-py3-none-any.whl (16 kB)\n",
      "Using cached wsproto-1.2.0-py3-none-any.whl (24 kB)\n",
      "Downloading outcome-1.3.0.post0-py2.py3-none-any.whl (10 kB)\n",
      "Using cached sortedcontainers-2.4.0-py2.py3-none-any.whl (29 kB)\n",
      "Installing collected packages: sortedcontainers, wsproto, pysocks, outcome, trio, trio-websocket, selenium\n",
      "Successfully installed outcome-1.3.0.post0 pysocks-1.7.1 selenium-4.25.0 sortedcontainers-2.4.0 trio-0.26.2 trio-websocket-0.11.1 wsproto-1.2.0\n"
     ]
    }
   ],
   "source": [
    "!pip install selenium\n"
   ]
  },
  {
   "cell_type": "code",
   "execution_count": 8,
   "id": "23df93c5-69ee-4e85-adfe-e428720cad1d",
   "metadata": {},
   "outputs": [
    {
     "name": "stdin",
     "output_type": "stream",
     "text": [
      "Enter a product name to search:  LAVA FlipÂ Â (Blue)\n"
     ]
    },
    {
     "name": "stderr",
     "output_type": "stream",
     "text": [
      "C:\\Users\\Abiram\\AppData\\Local\\Temp\\ipykernel_2708\\1118166643.py:10: UserWarning: This pattern is interpreted as a regular expression, and has match groups. To actually get the groups, use str.extract.\n",
      "  matching_products = df[df['Product_name'].str.lower().str.contains(query)][['ID', 'Product_name']].drop_duplicates()\n"
     ]
    },
    {
     "name": "stdout",
     "output_type": "stream",
     "text": [
      "No matching products found.\n"
     ]
    },
    {
     "name": "stdin",
     "output_type": "stream",
     "text": [
      "\n",
      "No products found. Do you want to search again? (yes/no):  yes\n",
      "Enter a product name to search:  lava \n"
     ]
    },
    {
     "name": "stdout",
     "output_type": "stream",
     "text": [
      "\n",
      "Matching Products:\n",
      "      ID                     Product_name\n",
      "185  185                LAVA Flip  (Blue)\n",
      "186  186                LAVA Flip  (Blue)\n",
      "187  187                LAVA Flip  (Blue)\n",
      "188  188                LAVA Flip  (Blue)\n",
      "189  189                LAVA Flip  (Blue)\n",
      "190  190                LAVA Flip  (Blue)\n",
      "191  191                LAVA Flip  (Blue)\n",
      "192  192                LAVA Flip  (Blue)\n",
      "193  193                LAVA Flip  (Blue)\n",
      "194  194                LAVA Flip  (Blue)\n",
      "225  225              LAVA A1500  (Black)\n",
      "226  226              LAVA A1500  (Black)\n",
      "227  227              LAVA A1500  (Black)\n",
      "228  228              LAVA A1500  (Black)\n",
      "229  229              LAVA A1500  (Black)\n",
      "230  230              LAVA A1500  (Black)\n",
      "231  231              LAVA A1500  (Black)\n",
      "232  232              LAVA A1500  (Black)\n",
      "233  233              LAVA A1500  (Black)\n",
      "234  234              LAVA A1500  (Black)\n",
      "265  265    LAVA Hero 600+  (Blue, Green)\n",
      "266  266    LAVA Hero 600+  (Blue, Green)\n",
      "267  267    LAVA Hero 600+  (Blue, Green)\n",
      "268  268    LAVA Hero 600+  (Blue, Green)\n",
      "269  269    LAVA Hero 600+  (Blue, Green)\n",
      "270  270    LAVA Hero 600+  (Blue, Green)\n",
      "271  271    LAVA Hero 600+  (Blue, Green)\n",
      "272  272    LAVA Hero 600+  (Blue, Green)\n",
      "273  273    LAVA Hero 600+  (Blue, Green)\n",
      "274  274    LAVA Hero 600+  (Blue, Green)\n",
      "305  305          LAVA Gem  (Blue Gold S)\n",
      "306  306          LAVA Gem  (Blue Gold S)\n",
      "307  307          LAVA Gem  (Blue Gold S)\n",
      "308  308          LAVA Gem  (Blue Gold S)\n",
      "309  309          LAVA Gem  (Blue Gold S)\n",
      "310  310          LAVA Gem  (Blue Gold S)\n",
      "311  311          LAVA Gem  (Blue Gold S)\n",
      "312  312          LAVA Gem  (Blue Gold S)\n",
      "313  313          LAVA Gem  (Blue Gold S)\n",
      "314  314          LAVA Gem  (Blue Gold S)\n",
      "345  345       LAVA A3  (White + Beige S)\n",
      "346  346       LAVA A3  (White + Beige S)\n",
      "347  347       LAVA A3  (White + Beige S)\n",
      "348  348       LAVA A3  (White + Beige S)\n",
      "349  349       LAVA A3  (White + Beige S)\n",
      "350  350       LAVA A3  (White + Beige S)\n",
      "351  351       LAVA A3  (White + Beige S)\n",
      "352  352       LAVA A3  (White + Beige S)\n",
      "353  353       LAVA A3  (White + Beige S)\n",
      "354  354       LAVA A3  (White + Beige S)\n",
      "385  385  LAVA A3  (Dark Blue + Grey S D)\n",
      "386  386  LAVA A3  (Dark Blue + Grey S D)\n",
      "387  387  LAVA A3  (Dark Blue + Grey S D)\n",
      "388  388  LAVA A3  (Dark Blue + Grey S D)\n",
      "389  389  LAVA A3  (Dark Blue + Grey S D)\n",
      "390  390  LAVA A3  (Dark Blue + Grey S D)\n",
      "391  391  LAVA A3  (Dark Blue + Grey S D)\n",
      "392  392  LAVA A3  (Dark Blue + Grey S D)\n",
      "393  393  LAVA A3  (Dark Blue + Grey S D)\n",
      "394  394  LAVA A3  (Dark Blue + Grey S D)\n"
     ]
    },
    {
     "name": "stdin",
     "output_type": "stream",
     "text": [
      "\n",
      "Enter the Product ID to analyze:  353\n"
     ]
    },
    {
     "name": "stdout",
     "output_type": "stream",
     "text": [
      "\n",
      "Total Reviews: 1\n",
      "\n",
      "Reviews:\n",
      "1. Good product..You want a simple mobile using call these mobile very nice for calling and battery backup is also good with 2 days.\n"
     ]
    },
    {
     "data": {
      "image/png": "[encoded data removed]",
      "text/plain": [
       "<Figure size 600x600 with 1 Axes>"
      ]
     },
     "metadata": {},
     "output_type": "display_data"
    },
    {
     "name": "stdout",
     "output_type": "stream",
     "text": [
      "\n",
      "Sentiment data exported to sentiment_analysis_product_353.csv\n",
      "\n",
      "Sentiment Analysis for Product ID: 353\n",
      "{'Positive': 1, 'Neutral': 0, 'Negative': 0}\n"
     ]
    },
    {
     "name": "stdin",
     "output_type": "stream",
     "text": [
      "\n",
      "Do you want to analyze another product? (yes/no):  no\n"
     ]
    }
   ],
   "source": [
    "import pandas as pd\n",
    "import matplotlib.pyplot as plt\n",
    "from vaderSentiment.vaderSentiment import SentimentIntensityAnalyzer\n",
    "\n",
    "df = pd.read_csv('flipkart.csv')  \n",
    "\n",
    "# Search for products by name (partial match)\n",
    "def search_product():\n",
    "    query = input(\"Enter a product name to search: \").lower()\n",
    "    matching_products = df[df['Product_name'].str.lower().str.contains(query)][['ID', 'Product_name']].drop_duplicates()\n",
    "    \n",
    "    if matching_products.empty:\n",
    "        print(\"No matching products found.\")\n",
    "        return None\n",
    "    else:\n",
    "        print(\"\\nMatching Products:\")\n",
    "        print(matching_products)\n",
    "        return matching_products\n",
    "\n",
    "# Display product reviews and sentiment\n",
    "def display_reviews(product_id):\n",
    "    # Filter the reviews for the selected product\n",
    "    product_reviews = df[df['ID'] == int(product_id)]\n",
    "    \n",
    "    if product_reviews.empty:\n",
    "        print(\"No reviews available for this product.\")\n",
    "        return\n",
    "    \n",
    "    # Display number of reviews\n",
    "    print(f\"\\nTotal Reviews: {len(product_reviews)}\\n\")\n",
    "    \n",
    "    # Display the actual reviews\n",
    "    print(\"Reviews:\")\n",
    "    for i, review in enumerate(product_reviews['Review'].tolist(), 1):\n",
    "        print(f\"{i}. {review}\")\n",
    "    \n",
    "    # Sentiment analysis\n",
    "    sentiment_scores = {'Positive': 0, 'Neutral': 0, 'Negative': 0}\n",
    "    analyzer = SentimentIntensityAnalyzer()\n",
    "    \n",
    "    for review in product_reviews['Review']:\n",
    "        sentiment = analyzer.polarity_scores(review)\n",
    "        if sentiment['compound'] > 0:\n",
    "            sentiment_scores['Positive'] += 1\n",
    "        elif sentiment['compound'] == 0:\n",
    "            sentiment_scores['Neutral'] += 1\n",
    "        else:\n",
    "            sentiment_scores['Negative'] += 1\n",
    "    \n",
    "    # Plot sentiment analysis results\n",
    "    labels = sentiment_scores.keys()\n",
    "    sizes = sentiment_scores.values()\n",
    "\n",
    "    plt.figure(figsize=(6, 6))\n",
    "    plt.pie(sizes, labels=labels, autopct='%1.1f%%', startangle=90, colors=['green', 'gray', 'red'])\n",
    "    plt.title(f\"Sentiment Analysis for Product ID: {product_id}\")\n",
    "    plt.show()\n",
    "\n",
    "    # Export the results to a CSV file\n",
    "    export_sentiment_to_csv(product_id, sentiment_scores)\n",
    "    \n",
    "    # Display the sentiment counts\n",
    "    print(f\"\\nSentiment Analysis for Product ID: {product_id}\")\n",
    "    print(sentiment_scores)\n",
    "\n",
    "# Export the sentiment data to a CSV file\n",
    "def export_sentiment_to_csv(product_id, sentiment_scores):\n",
    "    export_data = pd.DataFrame.from_dict(sentiment_scores, orient='index', columns=['Count'])\n",
    "    export_data['Product ID'] = product_id\n",
    "    export_data.reset_index(inplace=True)\n",
    "    export_data.rename(columns={'index': 'Sentiment'}, inplace=True)\n",
    "    \n",
    "    export_file_name = f\"sentiment_analysis_product_{product_id}.csv\"\n",
    "    export_data.to_csv(export_file_name, index=False)\n",
    "    print(f\"\\nSentiment data exported to {export_file_name}\")\n",
    "\n",
    "# Main interactive flow\n",
    "def main():\n",
    "    while True:\n",
    "        # Search for products by name\n",
    "        search_result = search_product()\n",
    "        \n",
    "        if search_result is not None:\n",
    "            product_id = input(\"\\nEnter the Product ID to analyze: \")\n",
    "            \n",
    "            # Display reviews and perform sentiment analysis\n",
    "            display_reviews(product_id)\n",
    "            \n",
    "            # Ask the user if they want to continue or exit\n",
    "            continue_choice = input(\"\\nDo you want to analyze another product? (yes/no): \").lower()\n",
    "            if continue_choice != 'yes':\n",
    "                break\n",
    "        else:\n",
    "            continue_choice = input(\"\\nNo products found. Do you want to search again? (yes/no): \").lower()\n",
    "            if continue_choice != 'yes':\n",
    "                break\n",
    "\n",
    "if __name__ == \"__main__\":\n",
    "    main()\n"
   ]
  }
 ],
 "metadata": {
  "kernelspec": {
   "display_name": "Python 3 (ipykernel)",
   "language": "python",
   "name": "python3"
  },
  "language_info": {
   "codemirror_mode": {
    "name": "ipython",
    "version": 3
   },
   "file_extension": ".py",
   "mimetype": "text/x-python",
   "name": "python",
   "nbconvert_exporter": "python",
   "pygments_lexer": "ipython3",
   "version": "3.11.9"
  }
 },
 "nbformat": 4,
 "nbformat_minor": 5
}
